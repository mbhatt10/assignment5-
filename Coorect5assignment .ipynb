{
 "cells": [
  {
   "cell_type": "markdown",
   "id": "49695e92-dfa5-4f3e-9744-c25aa79b3338",
   "metadata": {},
   "source": [
    "#Write a program to print numbers from 1 to 10, but stop if the number is 5.\n"
   ]
  },
  {
   "cell_type": "code",
   "execution_count": 22,
   "id": "b5dbcc35-7421-4eb6-92b8-cc38655b8c93",
   "metadata": {},
   "outputs": [
    {
     "name": "stdout",
     "output_type": "stream",
     "text": [
      "1\n",
      "2\n",
      "3\n",
      "4\n",
      "5\n"
     ]
    }
   ],
   "source": [
    "for i in range(1, 11):\n",
    "    print(i)\n",
    "\n",
    "    if i == 5:\n",
    "        break   \n"
   ]
  },
  {
   "cell_type": "markdown",
   "id": "aed945e7-77ed-40b2-bf53-a385e0c10137",
   "metadata": {},
   "source": [
    "#Write a program to iterate through a list and stop when encountering a specific element."
   ]
  },
  {
   "cell_type": "code",
   "execution_count": 29,
   "id": "7cb4b091-80b1-448e-b9ce-fe64ac930ee3",
   "metadata": {},
   "outputs": [
    {
     "name": "stdout",
     "output_type": "stream",
     "text": [
      "1\n",
      "2\n",
      "4\n",
      "5\n",
      "7\n",
      "5\n",
      "4\n",
      "5\n",
      "1\n",
      "5\n"
     ]
    }
   ],
   "source": [
    "l = [1, 2, 4, 5, 7, 5, 4, 5, 1, 5, \"DS\", 1, 2, 5, 4, 45, 1, 0]\n",
    "\n",
    "for i  in l:\n",
    "    if type(i) == str:\n",
    "        break\n",
    "    print (i)\n"
   ]
  },
  {
   "cell_type": "markdown",
   "id": "e4206e35-df3c-4011-92a3-4b4c3b6784f8",
   "metadata": {},
   "source": [
    "#3 Write a program to skip printing even numbers from 1 to 10."
   ]
  },
  {
   "cell_type": "code",
   "execution_count": 31,
   "id": "1de1565a-b9f1-49a0-b17a-1eafe3c69f79",
   "metadata": {},
   "outputs": [
    {
     "name": "stdout",
     "output_type": "stream",
     "text": [
      "1\n",
      "2\n",
      "4\n",
      "7\n",
      "4\n",
      "1\n",
      "DS\n",
      "1\n",
      "2\n",
      "4\n",
      "45\n",
      "1\n",
      "0\n"
     ]
    }
   ],
   "source": [
    "l = [1, 2, 4, 5, 7, 5, 4, 5, 1, 5, \"DS\", 1, 2, 5, 4, 45, 1, 0]\n",
    "\n",
    "for s  in l:\n",
    "    if s == 5:\n",
    "        continue\n",
    "    print (s)"
   ]
  },
  {
   "cell_type": "markdown",
   "id": "f513eded-f91b-4578-aa2d-ca4781b4e722",
   "metadata": {},
   "source": [
    "Write a program to print numbers from 0 to 9 using rangeXF."
   ]
  },
  {
   "cell_type": "code",
   "execution_count": 32,
   "id": "0bf514c0-f3d3-4f9c-9ac7-47878332b21e",
   "metadata": {},
   "outputs": [
    {
     "name": "stdout",
     "output_type": "stream",
     "text": [
      "0\n",
      "1\n",
      "2\n",
      "3\n",
      "4\n",
      "5\n",
      "6\n",
      "7\n",
      "8\n",
      "9\n"
     ]
    }
   ],
   "source": [
    "for z in range (10):\n",
    "    print(z)"
   ]
  },
  {
   "cell_type": "markdown",
   "id": "11e20476-9766-467f-9d17-a7b2ed408c67",
   "metadata": {},
   "source": [
    "#Write a program to print multiplication tables from  to 5, but stop after the first table is printed for each\n",
    "number."
   ]
  },
  {
   "cell_type": "code",
   "execution_count": 34,
   "id": "32feb37c-a1b2-4db9-a201-a3e15176eb7d",
   "metadata": {},
   "outputs": [
    {
     "name": "stdout",
     "output_type": "stream",
     "text": [
      "Multiplication table for 1\n",
      "1 x 1 = 1\n",
      "1 x 2 = 2\n",
      "1 x 3 = 3\n",
      "1 x 4 = 4\n",
      "1 x 5 = 5\n",
      "1 x 6 = 6\n",
      "1 x 7 = 7\n",
      "1 x 8 = 8\n",
      "1 x 9 = 9\n",
      "1 x 10 = 10\n",
      "\n",
      "Multiplication table for 2\n",
      "2 x 1 = 2\n",
      "2 x 2 = 4\n",
      "2 x 3 = 6\n",
      "2 x 4 = 8\n",
      "2 x 5 = 10\n",
      "2 x 6 = 12\n",
      "2 x 7 = 14\n",
      "2 x 8 = 16\n",
      "2 x 9 = 18\n",
      "2 x 10 = 20\n",
      "\n",
      "Multiplication table for 3\n",
      "3 x 1 = 3\n",
      "3 x 2 = 6\n",
      "3 x 3 = 9\n",
      "3 x 4 = 12\n",
      "3 x 5 = 15\n",
      "3 x 6 = 18\n",
      "3 x 7 = 21\n",
      "3 x 8 = 24\n",
      "3 x 9 = 27\n",
      "3 x 10 = 30\n",
      "\n",
      "Multiplication table for 4\n",
      "4 x 1 = 4\n",
      "4 x 2 = 8\n",
      "4 x 3 = 12\n",
      "4 x 4 = 16\n",
      "4 x 5 = 20\n",
      "4 x 6 = 24\n",
      "4 x 7 = 28\n",
      "4 x 8 = 32\n",
      "4 x 9 = 36\n",
      "4 x 10 = 40\n",
      "\n",
      "Multiplication table for 5\n",
      "5 x 1 = 5\n",
      "5 x 2 = 10\n",
      "5 x 3 = 15\n",
      "5 x 4 = 20\n",
      "5 x 5 = 25\n",
      "5 x 6 = 30\n",
      "5 x 7 = 35\n",
      "5 x 8 = 40\n",
      "5 x 9 = 45\n",
      "5 x 10 = 50\n",
      "\n"
     ]
    }
   ],
   "source": [
    "for i in range(1, 6):\n",
    "    print(\"Multiplication table for\", i)\n",
    "    for new in range(1, 11):\n",
    "        print(i, \"x\", new, \"=\", i * new)\n",
    "    print()\n",
    "    \n",
    "    "
   ]
  },
  {
   "cell_type": "markdown",
   "id": "00e91862-ca35-419b-873e-4c17b23aa338",
   "metadata": {},
   "source": [
    "#Write a program to skip printing even numbers using a while loop."
   ]
  },
  {
   "cell_type": "code",
   "execution_count": 35,
   "id": "f7de6450-a64a-4bba-87d1-430f3410ce92",
   "metadata": {},
   "outputs": [
    {
     "name": "stdout",
     "output_type": "stream",
     "text": [
      "1\n",
      "3\n",
      "5\n",
      "7\n",
      "9\n",
      "11\n",
      "13\n",
      "15\n",
      "17\n",
      "19\n"
     ]
    }
   ],
   "source": [
    "a = 20\n",
    "i = 0\n",
    "while i <=20:\n",
    "    if i %2 != 0:\n",
    "     print(i)\n",
    "    i += 1\n"
   ]
  },
  {
   "cell_type": "code",
   "execution_count": null,
   "id": "0a4d5d61-2a90-4ad9-9d86-28a9cdf6a798",
   "metadata": {},
   "outputs": [],
   "source": []
  }
 ],
 "metadata": {
  "kernelspec": {
   "display_name": "Python 3 (ipykernel)",
   "language": "python",
   "name": "python3"
  },
  "language_info": {
   "codemirror_mode": {
    "name": "ipython",
    "version": 3
   },
   "file_extension": ".py",
   "mimetype": "text/x-python",
   "name": "python",
   "nbconvert_exporter": "python",
   "pygments_lexer": "ipython3",
   "version": "3.10.8"
  }
 },
 "nbformat": 4,
 "nbformat_minor": 5
}
